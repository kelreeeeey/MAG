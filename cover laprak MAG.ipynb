{
 "cells": [
  {
   "cell_type": "markdown",
   "metadata": {},
   "source": [
    "## <center>KEMENTRIAN PENDIDIKAN DAN KEBUDAYAAN\n",
    "## <center>PROGRAM STUDI GEOFISIKA JURUSAN FISIKA\n",
    "## <center>FAKULTAS MATEMATIKA DAN ILMU PENGETAHUAN ALAM\n",
    "# <center>UNIVERSITAS GADJAH MADA\n",
    "***\n",
    "## <center>PRAKTIKUM METODE ANALISIS GEOFISIKA 1\n",
    "## <center>ACARA 2. IMPULSE RESPON DAN KONVOLUSI</center>\n",
    "\n",
    "# <p>\n",
    "\n",
    "<img src=\"http://www.luk.staff.ugm.ac.id/logo/UGM/Resmi/Hitam-putih.gif\" width=\"300\" height=\"300\" />\n",
    " \n",
    "# <p>\n",
    "# <p>\n",
    "# <p>\n",
    "### <center>DISUSUN OLEH : \n",
    "### <center>Nama \n",
    "### <center>(NIM 18/ )\n",
    "# <p>   \n",
    "### <center>ASISTEN : \n",
    "### <center>TIM ASISTEN PRAKTIKUM METODE ANALISIS GEOFISIKA 1 2020\n",
    "***\n",
    "## <center>YOGYAKARTA\n",
    "## <center>OKTOBER\n",
    "## <center>2020 "
   ]
  }
 ],
 "metadata": {
  "kernelspec": {
   "display_name": "Python 3 (ipykernel)",
   "language": "python",
   "name": "python3"
  },
  "language_info": {
   "codemirror_mode": {
    "name": "ipython",
    "version": 3
   },
   "file_extension": ".py",
   "mimetype": "text/x-python",
   "name": "python",
   "nbconvert_exporter": "python",
   "pygments_lexer": "ipython3",
   "version": "3.8.11"
  }
 },
 "nbformat": 4,
 "nbformat_minor": 4
}
